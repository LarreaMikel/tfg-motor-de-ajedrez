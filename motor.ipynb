{
 "cells": [
  {
   "cell_type": "code",
   "execution_count": 1,
   "metadata": {},
   "outputs": [],
   "source": [
    "import chess"
   ]
  },
  {
   "cell_type": "code",
   "execution_count": 2,
   "metadata": {},
   "outputs": [],
   "source": [
    "board = chess.Board()"
   ]
  },
  {
   "cell_type": "code",
   "execution_count": 3,
   "metadata": {},
   "outputs": [],
   "source": [
    "import time\n",
    "from IPython.display import display, HTML, clear_output"
   ]
  },
  {
   "cell_type": "code",
   "execution_count": 4,
   "metadata": {},
   "outputs": [],
   "source": [
    "def who(player):\n",
    "    return \"White\" if player == chess.WHITE else \"Black\""
   ]
  },
  {
   "cell_type": "code",
   "execution_count": 5,
   "metadata": {},
   "outputs": [],
   "source": [
    "def display_board(board, use_svg):\n",
    "    if use_svg:\n",
    "        return board._repr_svg_()\n",
    "    else:\n",
    "        return \"<pre>\" + str(board) + \"</pre>\""
   ]
  },
  {
   "cell_type": "code",
   "execution_count": 6,
   "metadata": {},
   "outputs": [],
   "source": [
    "def play_game(player1, player2, visual=\"svg\", pause=0.1):\n",
    "    \"\"\"\n",
    "    playerN1, player2: functions that takes board, return uci move\n",
    "    visual: \"simple\" | \"svg\" | None\n",
    "    \"\"\"\n",
    "    use_svg = (visual == \"svg\")\n",
    "    board = chess.Board()\n",
    "    try:\n",
    "        planilla = []\n",
    "        numero_jugada = 1.0\n",
    "        while not board.is_game_over(claim_draw=True):\n",
    "            if board.turn == chess.WHITE:\n",
    "                uci = player1(board)\n",
    "            else:\n",
    "                uci = player2(board)\n",
    "            name = who(board.turn)\n",
    "            board.push_uci(uci)\n",
    "            board_stop = display_board(board, use_svg)\n",
    "            html = \"<b>Move %s %s, Play '%s':</b><br/>%s\" % (\n",
    "                       len(board.move_stack), name, uci, board_stop)\n",
    "            if visual is not None:\n",
    "                if visual == \"svg\":\n",
    "                    clear_output(wait=True)\n",
    "                display(HTML(html))\n",
    "                if visual == \"svg\":\n",
    "                    time.sleep(pause)\n",
    "            planilla.append(str(numero_jugada) + '. ' + uci)\n",
    "            print(planilla)\n",
    "            numero_jugada = numero_jugada + 0.5 \n",
    "    except KeyboardInterrupt:\n",
    "        msg = \"Game interrupted!\"\n",
    "        return (None, msg, board)\n",
    "    result = None\n",
    "    if board.is_checkmate():\n",
    "        msg = \"checkmate: \" + who(not board.turn) + \" wins!\"\n",
    "        result = not board.turn\n",
    "    elif board.is_stalemate():\n",
    "        msg = \"draw: stalemate\"\n",
    "    elif board.is_fivefold_repetition():\n",
    "        msg = \"draw: 5-fold repetition\"\n",
    "    elif board.is_insufficient_material():\n",
    "        msg = \"draw: insufficient material\"\n",
    "    elif board.can_claim_draw():\n",
    "        msg = \"draw: claim\"\n",
    "    if visual is not None:\n",
    "        print(msg)\n",
    "    return (result, msg, board)"
   ]
  },
  {
   "cell_type": "code",
   "execution_count": 7,
   "metadata": {},
   "outputs": [],
   "source": [
    "import random"
   ]
  },
  {
   "cell_type": "code",
   "execution_count": 8,
   "metadata": {},
   "outputs": [],
   "source": [
    "def random_player(board):\n",
    "    move = random.choice(list(board.legal_moves))\n",
    "    return move.uci()"
   ]
  },
  {
   "cell_type": "code",
   "execution_count": 9,
   "metadata": {},
   "outputs": [],
   "source": [
    "def human_player(board):\n",
    "    display(board)\n",
    "    uci = get_move(\"%s's move [q to quit]> \" % who(board.turn))\n",
    "    legal_uci_moves = [move.uci() for move in board.legal_moves]\n",
    "    while uci not in legal_uci_moves:\n",
    "        print(\"Legal moves: \" + (\",\".join(sorted(legal_uci_moves))))\n",
    "        uci = get_move(\"%s's move[q to quit]> \" % who(board.turn))\n",
    "    return uci"
   ]
  },
  {
   "cell_type": "code",
   "execution_count": 10,
   "metadata": {},
   "outputs": [],
   "source": [
    "def get_move(prompt):\n",
    "    uci = input(prompt)\n",
    "    if uci and uci[0] == \"q\":\n",
    "        raise KeyboardInterrupt()\n",
    "    try:\n",
    "        chess.Move.from_uci(uci)\n",
    "    except:\n",
    "        uci = None\n",
    "    return uci"
   ]
  },
  {
   "cell_type": "code",
   "execution_count": 11,
   "metadata": {},
   "outputs": [],
   "source": [
    "def player1(board):\n",
    "    moves = list(board.legal_moves)\n",
    "    for move in moves:\n",
    "        newboard = board.copy()\n",
    "        # go through board and return a score\n",
    "        move.score = staticAnalysis1(newboard, move, board.turn)\n",
    "    moves.sort(key=lambda move: move.score, reverse=True) # sort on score\n",
    "    return moves[0].uci()"
   ]
  },
  {
   "cell_type": "code",
   "execution_count": 12,
   "metadata": {},
   "outputs": [],
   "source": [
    "def staticAnalysis1(board, move, my_color):\n",
    "    score = 0\n",
    "    ## Check some things about this move:\n",
    "    # score += 10 if board.is_capture(move) else 0\n",
    "    # To actually make the move:\n",
    "    board.push(move)\n",
    "    # Now check some other things:\n",
    "    for (piece, value) in [(chess.PAWN, 1), \n",
    "                           (chess.BISHOP, 4), \n",
    "                           (chess.KING, 0), \n",
    "                           (chess.QUEEN, 10), \n",
    "                           (chess.KNIGHT, 5),\n",
    "                           (chess.ROOK, 3)]:\n",
    "        score += len(board.pieces(piece, my_color)) * value\n",
    "        score -= len(board.pieces(piece, not my_color)) * value\n",
    "        # can also check things about the pieces position here\n",
    "    return score"
   ]
  },
  {
   "cell_type": "code",
   "execution_count": 13,
   "metadata": {},
   "outputs": [],
   "source": [
    "def player2(board):\n",
    "    moves = list(board.legal_moves)\n",
    "    for move in moves:\n",
    "        newboard = board.copy()\n",
    "        # go through board and return a score\n",
    "        move.score = staticAnalysis2(newboard, move, board.turn)\n",
    "    moves.sort(key=lambda move: move.score, reverse=True) # sort on score\n",
    "    return moves[0].uci()"
   ]
  },
  {
   "cell_type": "code",
   "execution_count": 14,
   "metadata": {},
   "outputs": [],
   "source": [
    "def staticAnalysis2(board, move, my_color):                              # mejora de la funcion de analisis anterior\n",
    "    score = random.random()\n",
    "    ## Check some things about this move:\n",
    "    # score += 10 if board.is_capture(move) else 0\n",
    "    # To actually make the move:\n",
    "    board.push(move)\n",
    "    # Now check some other things:\n",
    "    for (piece, value) in [(chess.PAWN, 1), \n",
    "                           (chess.BISHOP, 4), \n",
    "                           (chess.KING, 0), \n",
    "                           (chess.QUEEN, 10), \n",
    "                           (chess.KNIGHT, 5),\n",
    "                           (chess.ROOK, 3)]:\n",
    "        score += len(board.pieces(piece, my_color)) * value\n",
    "        score -= len(board.pieces(piece, not my_color)) * value\n",
    "        # can also check things about the pieces position here\n",
    "    return score"
   ]
  },
  {
   "cell_type": "code",
   "execution_count": 15,
   "metadata": {},
   "outputs": [],
   "source": [
    "def player3(board):\n",
    "    moves = list(board.legal_moves)\n",
    "    for move in moves:\n",
    "        newboard = board.copy()\n",
    "        # go through board and return a score\n",
    "        move.score = staticAnalysis3(newboard, move, board.turn)\n",
    "    moves.sort(key=lambda move: move.score, reverse=True) # sort on score\n",
    "    return moves[0].uci()"
   ]
  },
  {
   "cell_type": "code",
   "execution_count": 16,
   "metadata": {},
   "outputs": [],
   "source": [
    "def staticAnalysis3(board, move, my_color):                             # mejora de la funcion de analisis anterior\n",
    "    score = random.random()\n",
    "    ## Check some things about this move:\n",
    "    # score += 10 if board.is_capture(move) else 0\n",
    "    # To actually make the move:\n",
    "    board.push(move)\n",
    "    # Now check some other things:\n",
    "    for (piece, value) in [(chess.PAWN, 1), \n",
    "                           (chess.BISHOP, 4), \n",
    "                           (chess.KING, 0), \n",
    "                           (chess.QUEEN, 10), \n",
    "                           (chess.KNIGHT, 5),\n",
    "                           (chess.ROOK, 3)]:\n",
    "        score += len(board.pieces(piece, my_color)) * value\n",
    "        score -= len(board.pieces(piece, not my_color)) * value\n",
    "        # can also check things about the pieces position here\n",
    "    # Check global things about the board\n",
    "    score += 100 if board.is_checkmate() else 0\n",
    "    return score"
   ]
  },
  {
   "cell_type": "code",
   "execution_count": 17,
   "metadata": {},
   "outputs": [],
   "source": [
    "def player4(board):\n",
    "    moves = list(board.legal_moves)\n",
    "    for move in moves:\n",
    "        newboard = board.copy()\n",
    "        # go through board and return a score\n",
    "        score = random.random()\n",
    "        move.score = minimax(newboard, move, board.turn, score, depth = 2)\n",
    "    moves.sort(key=lambda move: move.score, reverse=True) # sort on score\n",
    "    return moves[0].uci()"
   ]
  },
  {
   "cell_type": "code",
   "execution_count": 18,
   "metadata": {},
   "outputs": [],
   "source": [
    "def minimax(board, move, my_color, score, depth):\n",
    "    if depth == 0:\n",
    "        return staticAnalysis4(board, move, my_color, score)\n",
    "    else:\n",
    "        if chess.WHITE:\n",
    "            bestscore = -float(\"inf\")\n",
    "            board.push(move)\n",
    "            for another_move in list(board.legal_moves):\n",
    "                newboard = board.copy()\n",
    "                score = minimax(newboard, move, board.turn, score, depth - 1)\n",
    "                if score > bestscore:\n",
    "                    bestscore = score\n",
    "            return bestscore\n",
    "        else:\n",
    "            bestscore = float(\"inf\")\n",
    "            board.push(move)\n",
    "            for another_move in list(board.legal_moves):\n",
    "                newboard = board.copy()\n",
    "                score = minimax(newboard, move, board.turn, score, depth - 1)\n",
    "                if score < bestscore:\n",
    "                    bestscore = score\n",
    "            return bestscore"
   ]
  },
  {
   "cell_type": "code",
   "execution_count": 22,
   "metadata": {},
   "outputs": [],
   "source": [
    "def staticAnalysis4(board, move, my_color, score):                             # mejora de la funcion de analisis anterior\n",
    "    ## Check some things about this move:\n",
    "    score += 1 if board.is_capture(move) else 0\n",
    "    score += 1 if board.is_castling(move) else 0\n",
    "    # To actually make the move:\n",
    "    board.push(move)\n",
    "    # Now check some other things:\n",
    "    for (piece, value) in [(chess.PAWN, 1), \n",
    "                           (chess.BISHOP, 3), \n",
    "                           (chess.KING, 0), \n",
    "                           (chess.QUEEN, 9), \n",
    "                           (chess.KNIGHT, 3),\n",
    "                           (chess.ROOK, 5)]:\n",
    "        score += len(board.pieces(piece, my_color)) * value\n",
    "        score -= len(board.pieces(piece, not my_color)) * value\n",
    "        # can also check things about the pieces position here\n",
    "    # Check global things about the board\n",
    "    score += 100 if board.is_checkmate() else 0\n",
    "    score -= 100 if board.is_stalemate() else 0\n",
    "    score -= 0 if board.has_castling_rights(my_color) else 1\n",
    "    score += 0 if board.has_castling_rights(not my_color) else 1\n",
    "    return score"
   ]
  },
  {
   "cell_type": "code",
   "execution_count": 23,
   "metadata": {
    "scrolled": true
   },
   "outputs": [
    {
     "data": {
      "text/html": [
       "<b>Move 142 Black, Play 'f5g5':</b><br/><svg height=\"400\" version=\"1.1\" viewBox=\"0 0 400 400\" width=\"400\" xmlns=\"http://www.w3.org/2000/svg\" xmlns:xlink=\"http://www.w3.org/1999/xlink\"><defs><g class=\"white queen\" fill=\"#fff\" fill-rule=\"evenodd\" id=\"white-queen\" stroke=\"#000\" stroke-linecap=\"round\" stroke-linejoin=\"round\" stroke-width=\"1.5\"><path d=\"M8 12a2 2 0 1 1-4 0 2 2 0 1 1 4 0zM24.5 7.5a2 2 0 1 1-4 0 2 2 0 1 1 4 0zM41 12a2 2 0 1 1-4 0 2 2 0 1 1 4 0zM16 8.5a2 2 0 1 1-4 0 2 2 0 1 1 4 0zM33 9a2 2 0 1 1-4 0 2 2 0 1 1 4 0z\" /><path d=\"M9 26c8.5-1.5 21-1.5 27 0l2-12-7 11V11l-5.5 13.5-3-15-3 15-5.5-14V25L7 14l2 12zM9 26c0 2 1.5 2 2.5 4 1 1.5 1 1 .5 3.5-1.5 1-1.5 2.5-1.5 2.5-1.5 1.5.5 2.5.5 2.5 6.5 1 16.5 1 23 0 0 0 1.5-1 0-2.5 0 0 .5-1.5-1-2.5-.5-2.5-.5-2 .5-3.5 1-2 2.5-2 2.5-4-8.5-1.5-18.5-1.5-27 0z\" stroke-linecap=\"butt\" /><path d=\"M11.5 30c3.5-1 18.5-1 22 0M12 33.5c6-1 15-1 21 0\" fill=\"none\" /></g><g class=\"white king\" fill=\"none\" fill-rule=\"evenodd\" id=\"white-king\" stroke=\"#000\" stroke-linecap=\"round\" stroke-linejoin=\"round\" stroke-width=\"1.5\"><path d=\"M22.5 11.63V6M20 8h5\" stroke-linejoin=\"miter\" /><path d=\"M22.5 25s4.5-7.5 3-10.5c0 0-1-2.5-3-2.5s-3 2.5-3 2.5c-1.5 3 3 10.5 3 10.5\" fill=\"#fff\" stroke-linecap=\"butt\" stroke-linejoin=\"miter\" /><path d=\"M11.5 37c5.5 3.5 15.5 3.5 21 0v-7s9-4.5 6-10.5c-4-6.5-13.5-3.5-16 4V27v-3.5c-3.5-7.5-13-10.5-16-4-3 6 5 10 5 10V37z\" fill=\"#fff\" /><path d=\"M11.5 30c5.5-3 15.5-3 21 0m-21 3.5c5.5-3 15.5-3 21 0m-21 3.5c5.5-3 15.5-3 21 0\" /></g><g class=\"black king\" fill=\"none\" fill-rule=\"evenodd\" id=\"black-king\" stroke=\"#000\" stroke-linecap=\"round\" stroke-linejoin=\"round\" stroke-width=\"1.5\"><path d=\"M22.5 11.63V6\" stroke-linejoin=\"miter\" /><path d=\"M22.5 25s4.5-7.5 3-10.5c0 0-1-2.5-3-2.5s-3 2.5-3 2.5c-1.5 3 3 10.5 3 10.5\" fill=\"#000\" stroke-linecap=\"butt\" stroke-linejoin=\"miter\" /><path d=\"M11.5 37c5.5 3.5 15.5 3.5 21 0v-7s9-4.5 6-10.5c-4-6.5-13.5-3.5-16 4V27v-3.5c-3.5-7.5-13-10.5-16-4-3 6 5 10 5 10V37z\" fill=\"#000\" /><path d=\"M20 8h5\" stroke-linejoin=\"miter\" /><path d=\"M32 29.5s8.5-4 6.03-9.65C34.15 14 25 18 22.5 24.5l.01 2.1-.01-2.1C20 18 9.906 14 6.997 19.85c-2.497 5.65 4.853 9 4.853 9M11.5 30c5.5-3 15.5-3 21 0m-21 3.5c5.5-3 15.5-3 21 0m-21 3.5c5.5-3 15.5-3 21 0\" stroke=\"#fff\" /></g></defs><rect class=\"square dark a1\" fill=\"#d18b47\" height=\"45\" stroke=\"none\" width=\"45\" x=\"20\" y=\"335\" /><rect class=\"square light b1\" fill=\"#ffce9e\" height=\"45\" stroke=\"none\" width=\"45\" x=\"65\" y=\"335\" /><rect class=\"square dark c1\" fill=\"#d18b47\" height=\"45\" stroke=\"none\" width=\"45\" x=\"110\" y=\"335\" /><rect class=\"square light d1\" fill=\"#ffce9e\" height=\"45\" stroke=\"none\" width=\"45\" x=\"155\" y=\"335\" /><rect class=\"square dark e1\" fill=\"#d18b47\" height=\"45\" stroke=\"none\" width=\"45\" x=\"200\" y=\"335\" /><rect class=\"square light f1\" fill=\"#ffce9e\" height=\"45\" stroke=\"none\" width=\"45\" x=\"245\" y=\"335\" /><rect class=\"square dark g1\" fill=\"#d18b47\" height=\"45\" stroke=\"none\" width=\"45\" x=\"290\" y=\"335\" /><rect class=\"square light h1\" fill=\"#ffce9e\" height=\"45\" stroke=\"none\" width=\"45\" x=\"335\" y=\"335\" /><rect class=\"square light a2\" fill=\"#ffce9e\" height=\"45\" stroke=\"none\" width=\"45\" x=\"20\" y=\"290\" /><rect class=\"square dark b2\" fill=\"#d18b47\" height=\"45\" stroke=\"none\" width=\"45\" x=\"65\" y=\"290\" /><rect class=\"square light c2\" fill=\"#ffce9e\" height=\"45\" stroke=\"none\" width=\"45\" x=\"110\" y=\"290\" /><rect class=\"square dark d2\" fill=\"#d18b47\" height=\"45\" stroke=\"none\" width=\"45\" x=\"155\" y=\"290\" /><rect class=\"square light e2\" fill=\"#ffce9e\" height=\"45\" stroke=\"none\" width=\"45\" x=\"200\" y=\"290\" /><rect class=\"square dark f2\" fill=\"#d18b47\" height=\"45\" stroke=\"none\" width=\"45\" x=\"245\" y=\"290\" /><rect class=\"square light g2\" fill=\"#ffce9e\" height=\"45\" stroke=\"none\" width=\"45\" x=\"290\" y=\"290\" /><rect class=\"square dark h2\" fill=\"#d18b47\" height=\"45\" stroke=\"none\" width=\"45\" x=\"335\" y=\"290\" /><rect class=\"square dark a3\" fill=\"#d18b47\" height=\"45\" stroke=\"none\" width=\"45\" x=\"20\" y=\"245\" /><rect class=\"square light b3\" fill=\"#ffce9e\" height=\"45\" stroke=\"none\" width=\"45\" x=\"65\" y=\"245\" /><rect class=\"square dark c3\" fill=\"#d18b47\" height=\"45\" stroke=\"none\" width=\"45\" x=\"110\" y=\"245\" /><use transform=\"translate(110, 245)\" xlink:href=\"#white-king\" /><rect class=\"square light d3\" fill=\"#ffce9e\" height=\"45\" stroke=\"none\" width=\"45\" x=\"155\" y=\"245\" /><rect class=\"square dark e3\" fill=\"#d18b47\" height=\"45\" stroke=\"none\" width=\"45\" x=\"200\" y=\"245\" /><rect class=\"square light f3\" fill=\"#ffce9e\" height=\"45\" stroke=\"none\" width=\"45\" x=\"245\" y=\"245\" /><rect class=\"square dark g3\" fill=\"#d18b47\" height=\"45\" stroke=\"none\" width=\"45\" x=\"290\" y=\"245\" /><rect class=\"square light h3\" fill=\"#ffce9e\" height=\"45\" stroke=\"none\" width=\"45\" x=\"335\" y=\"245\" /><rect class=\"square light a4\" fill=\"#ffce9e\" height=\"45\" stroke=\"none\" width=\"45\" x=\"20\" y=\"200\" /><rect class=\"square dark b4\" fill=\"#d18b47\" height=\"45\" stroke=\"none\" width=\"45\" x=\"65\" y=\"200\" /><rect class=\"square light c4\" fill=\"#ffce9e\" height=\"45\" stroke=\"none\" width=\"45\" x=\"110\" y=\"200\" /><rect class=\"square dark d4\" fill=\"#d18b47\" height=\"45\" stroke=\"none\" width=\"45\" x=\"155\" y=\"200\" /><rect class=\"square light e4\" fill=\"#ffce9e\" height=\"45\" stroke=\"none\" width=\"45\" x=\"200\" y=\"200\" /><rect class=\"square dark f4\" fill=\"#d18b47\" height=\"45\" stroke=\"none\" width=\"45\" x=\"245\" y=\"200\" /><rect class=\"square light g4\" fill=\"#ffce9e\" height=\"45\" stroke=\"none\" width=\"45\" x=\"290\" y=\"200\" /><rect class=\"square dark h4\" fill=\"#d18b47\" height=\"45\" stroke=\"none\" width=\"45\" x=\"335\" y=\"200\" /><rect class=\"square dark a5\" fill=\"#d18b47\" height=\"45\" stroke=\"none\" width=\"45\" x=\"20\" y=\"155\" /><rect class=\"square light b5\" fill=\"#ffce9e\" height=\"45\" stroke=\"none\" width=\"45\" x=\"65\" y=\"155\" /><rect class=\"square dark c5\" fill=\"#d18b47\" height=\"45\" stroke=\"none\" width=\"45\" x=\"110\" y=\"155\" /><rect class=\"square light d5\" fill=\"#ffce9e\" height=\"45\" stroke=\"none\" width=\"45\" x=\"155\" y=\"155\" /><rect class=\"square dark e5\" fill=\"#d18b47\" height=\"45\" stroke=\"none\" width=\"45\" x=\"200\" y=\"155\" /><rect class=\"square light lastmove f5\" fill=\"#cdd16a\" height=\"45\" stroke=\"none\" width=\"45\" x=\"245\" y=\"155\" /><rect class=\"square dark lastmove g5\" fill=\"#aaa23b\" height=\"45\" stroke=\"none\" width=\"45\" x=\"290\" y=\"155\" /><use transform=\"translate(290, 155)\" xlink:href=\"#black-king\" /><rect class=\"square light h5\" fill=\"#ffce9e\" height=\"45\" stroke=\"none\" width=\"45\" x=\"335\" y=\"155\" /><rect class=\"square light a6\" fill=\"#ffce9e\" height=\"45\" stroke=\"none\" width=\"45\" x=\"20\" y=\"110\" /><rect class=\"square dark b6\" fill=\"#d18b47\" height=\"45\" stroke=\"none\" width=\"45\" x=\"65\" y=\"110\" /><rect class=\"square light c6\" fill=\"#ffce9e\" height=\"45\" stroke=\"none\" width=\"45\" x=\"110\" y=\"110\" /><rect class=\"square dark d6\" fill=\"#d18b47\" height=\"45\" stroke=\"none\" width=\"45\" x=\"155\" y=\"110\" /><rect class=\"square light e6\" fill=\"#ffce9e\" height=\"45\" stroke=\"none\" width=\"45\" x=\"200\" y=\"110\" /><rect class=\"square dark f6\" fill=\"#d18b47\" height=\"45\" stroke=\"none\" width=\"45\" x=\"245\" y=\"110\" /><rect class=\"square light g6\" fill=\"#ffce9e\" height=\"45\" stroke=\"none\" width=\"45\" x=\"290\" y=\"110\" /><rect class=\"square dark h6\" fill=\"#d18b47\" height=\"45\" stroke=\"none\" width=\"45\" x=\"335\" y=\"110\" /><rect class=\"square dark a7\" fill=\"#d18b47\" height=\"45\" stroke=\"none\" width=\"45\" x=\"20\" y=\"65\" /><use transform=\"translate(20, 65)\" xlink:href=\"#white-queen\" /><rect class=\"square light b7\" fill=\"#ffce9e\" height=\"45\" stroke=\"none\" width=\"45\" x=\"65\" y=\"65\" /><rect class=\"square dark c7\" fill=\"#d18b47\" height=\"45\" stroke=\"none\" width=\"45\" x=\"110\" y=\"65\" /><rect class=\"square light d7\" fill=\"#ffce9e\" height=\"45\" stroke=\"none\" width=\"45\" x=\"155\" y=\"65\" /><rect class=\"square dark e7\" fill=\"#d18b47\" height=\"45\" stroke=\"none\" width=\"45\" x=\"200\" y=\"65\" /><rect class=\"square light f7\" fill=\"#ffce9e\" height=\"45\" stroke=\"none\" width=\"45\" x=\"245\" y=\"65\" /><rect class=\"square dark g7\" fill=\"#d18b47\" height=\"45\" stroke=\"none\" width=\"45\" x=\"290\" y=\"65\" /><rect class=\"square light h7\" fill=\"#ffce9e\" height=\"45\" stroke=\"none\" width=\"45\" x=\"335\" y=\"65\" /><rect class=\"square light a8\" fill=\"#ffce9e\" height=\"45\" stroke=\"none\" width=\"45\" x=\"20\" y=\"20\" /><rect class=\"square dark b8\" fill=\"#d18b47\" height=\"45\" stroke=\"none\" width=\"45\" x=\"65\" y=\"20\" /><rect class=\"square light c8\" fill=\"#ffce9e\" height=\"45\" stroke=\"none\" width=\"45\" x=\"110\" y=\"20\" /><rect class=\"square dark d8\" fill=\"#d18b47\" height=\"45\" stroke=\"none\" width=\"45\" x=\"155\" y=\"20\" /><rect class=\"square light e8\" fill=\"#ffce9e\" height=\"45\" stroke=\"none\" width=\"45\" x=\"200\" y=\"20\" /><rect class=\"square dark f8\" fill=\"#d18b47\" height=\"45\" stroke=\"none\" width=\"45\" x=\"245\" y=\"20\" /><rect class=\"square light g8\" fill=\"#ffce9e\" height=\"45\" stroke=\"none\" width=\"45\" x=\"290\" y=\"20\" /><rect class=\"square dark h8\" fill=\"#d18b47\" height=\"45\" stroke=\"none\" width=\"45\" x=\"335\" y=\"20\" /><text alignment-baseline=\"middle\" font-size=\"14\" text-anchor=\"middle\" x=\"42\" y=\"10\">a</text><text alignment-baseline=\"middle\" font-size=\"14\" text-anchor=\"middle\" x=\"42\" y=\"390\">a</text><text alignment-baseline=\"middle\" font-size=\"14\" text-anchor=\"middle\" x=\"87\" y=\"10\">b</text><text alignment-baseline=\"middle\" font-size=\"14\" text-anchor=\"middle\" x=\"87\" y=\"390\">b</text><text alignment-baseline=\"middle\" font-size=\"14\" text-anchor=\"middle\" x=\"132\" y=\"10\">c</text><text alignment-baseline=\"middle\" font-size=\"14\" text-anchor=\"middle\" x=\"132\" y=\"390\">c</text><text alignment-baseline=\"middle\" font-size=\"14\" text-anchor=\"middle\" x=\"177\" y=\"10\">d</text><text alignment-baseline=\"middle\" font-size=\"14\" text-anchor=\"middle\" x=\"177\" y=\"390\">d</text><text alignment-baseline=\"middle\" font-size=\"14\" text-anchor=\"middle\" x=\"222\" y=\"10\">e</text><text alignment-baseline=\"middle\" font-size=\"14\" text-anchor=\"middle\" x=\"222\" y=\"390\">e</text><text alignment-baseline=\"middle\" font-size=\"14\" text-anchor=\"middle\" x=\"267\" y=\"10\">f</text><text alignment-baseline=\"middle\" font-size=\"14\" text-anchor=\"middle\" x=\"267\" y=\"390\">f</text><text alignment-baseline=\"middle\" font-size=\"14\" text-anchor=\"middle\" x=\"312\" y=\"10\">g</text><text alignment-baseline=\"middle\" font-size=\"14\" text-anchor=\"middle\" x=\"312\" y=\"390\">g</text><text alignment-baseline=\"middle\" font-size=\"14\" text-anchor=\"middle\" x=\"357\" y=\"10\">h</text><text alignment-baseline=\"middle\" font-size=\"14\" text-anchor=\"middle\" x=\"357\" y=\"390\">h</text><text alignment-baseline=\"middle\" font-size=\"14\" text-anchor=\"middle\" x=\"10\" y=\"357\">1</text><text alignment-baseline=\"middle\" font-size=\"14\" text-anchor=\"middle\" x=\"390\" y=\"357\">1</text><text alignment-baseline=\"middle\" font-size=\"14\" text-anchor=\"middle\" x=\"10\" y=\"312\">2</text><text alignment-baseline=\"middle\" font-size=\"14\" text-anchor=\"middle\" x=\"390\" y=\"312\">2</text><text alignment-baseline=\"middle\" font-size=\"14\" text-anchor=\"middle\" x=\"10\" y=\"267\">3</text><text alignment-baseline=\"middle\" font-size=\"14\" text-anchor=\"middle\" x=\"390\" y=\"267\">3</text><text alignment-baseline=\"middle\" font-size=\"14\" text-anchor=\"middle\" x=\"10\" y=\"222\">4</text><text alignment-baseline=\"middle\" font-size=\"14\" text-anchor=\"middle\" x=\"390\" y=\"222\">4</text><text alignment-baseline=\"middle\" font-size=\"14\" text-anchor=\"middle\" x=\"10\" y=\"177\">5</text><text alignment-baseline=\"middle\" font-size=\"14\" text-anchor=\"middle\" x=\"390\" y=\"177\">5</text><text alignment-baseline=\"middle\" font-size=\"14\" text-anchor=\"middle\" x=\"10\" y=\"132\">6</text><text alignment-baseline=\"middle\" font-size=\"14\" text-anchor=\"middle\" x=\"390\" y=\"132\">6</text><text alignment-baseline=\"middle\" font-size=\"14\" text-anchor=\"middle\" x=\"10\" y=\"87\">7</text><text alignment-baseline=\"middle\" font-size=\"14\" text-anchor=\"middle\" x=\"390\" y=\"87\">7</text><text alignment-baseline=\"middle\" font-size=\"14\" text-anchor=\"middle\" x=\"10\" y=\"42\">8</text><text alignment-baseline=\"middle\" font-size=\"14\" text-anchor=\"middle\" x=\"390\" y=\"42\">8</text></svg>"
      ],
      "text/plain": [
       "<IPython.core.display.HTML object>"
      ]
     },
     "metadata": {},
     "output_type": "display_data"
    },
    {
     "name": "stdout",
     "output_type": "stream",
     "text": [
      "['1.0. e2e4', '1.5. a7a5', '2.0. e4e5', '2.5. h7h5', '3.0. d1h5', '3.5. h8h5', '4.0. d2d3', '4.5. d7d5', '5.0. e5d6', '5.5. d8d6', '6.0. g1e2', '6.5. d6d3', '7.0. c2d3', '7.5. h5h2', '8.0. h1h2', '8.5. c8h3', '9.0. h2h3', '9.5. b7b5', '10.0. h3h6', '10.5. g8h6', '11.0. c1h6', '11.5. g7h6', '12.0. b1c3', '12.5. c7c5', '13.0. c3b5', '13.5. c5c4', '14.0. d3c4', '14.5. b8d7', '15.0. e2d4', '15.5. d7b6', '16.0. f1d3', '16.5. b6c4', '17.0. d3c4', '17.5. a5a4', '18.0. b5c3', '18.5. f7f5', '19.0. d4f5', '19.5. e7e6', '20.0. c3a4', '20.5. e6f5', '21.0. a4c3', '21.5. f8a3', '22.0. b2a3', '22.5. f5f4', '23.0. c4d3', '23.5. h6h5', '24.0. g2g4', '24.5. f4g3', '25.0. d3e4', '25.5. g3f2', '26.0. e1f2', '26.5. h5h4', '27.0. a1g1', '27.5. h4h3', '28.0. f2e3', '28.5. a8a3', '29.0. e3d2', '29.5. a3c3', '30.0. d2e2', '30.5. e8e7', '31.0. g1g5', '31.5. c3c8', '32.0. g5b5', '32.5. c8h8', '33.0. e2d2', '33.5. e7e6', '34.0. b5b3', '34.5. e6f6', '35.0. b3h3', '35.5. h8h3', '36.0. e4g6', '36.5. f6g6', '37.0. a2a4', '37.5. h3h8', '38.0. a4a5', '38.5. g6g5', '39.0. d2d1', '39.5. g5f6', '40.0. d1c2', '40.5. f6e7', '41.0. c2d3', '41.5. e7d7', '42.0. d3e3', '42.5. h8b8', '43.0. e3d3', '43.5. b8b6', '44.0. a5b6', '44.5. d7e7', '45.0. b6b7', '45.5. e7f7', '46.0. b7b8q', '46.5. f7g6', '47.0. b8b4', '47.5. g6f7', '48.0. b4a5', '48.5. f7e6', '49.0. a5a8', '49.5. e6e5', '50.0. d3c2', '50.5. e5d4', '51.0. c2d1', '51.5. d4e5', '52.0. a8a3', '52.5. e5f6', '53.0. a3a8', '53.5. f6e6', '54.0. d1d2', '54.5. e6d6', '55.0. a8h8', '55.5. d6d5', '56.0. h8h3', '56.5. d5e5', '57.0. h3a3', '57.5. e5f4', '58.0. a3a7', '58.5. f4g4', '59.0. a7b6', '59.5. g4g5', '60.0. b6b3', '60.5. g5g6', '61.0. b3a4', '61.5. g6h6', '62.0. a4c4', '62.5. h6g6', '63.0. c4a4', '63.5. g6h6', '64.0. a4c4', '64.5. h6g5', '65.0. c4b3', '65.5. g5f4', '66.0. b3b6', '66.5. f4g4', '67.0. d2c3', '67.5. g4g5', '68.0. b6b7', '68.5. g5h4', '69.0. c3d3', '69.5. h4g5', '70.0. d3c3', '70.5. g5f5', '71.0. b7a7', '71.5. f5g5']\n",
      "draw: claim\n"
     ]
    }
   ],
   "source": [
    "first_game = play_game(player4, player4)"
   ]
  },
  {
   "cell_type": "code",
   "execution_count": 21,
   "metadata": {
    "scrolled": true
   },
   "outputs": [
    {
     "data": {
      "text/plain": [
       "8"
      ]
     },
     "execution_count": 21,
     "metadata": {},
     "output_type": "execute_result"
    }
   ],
   "source": [
    "3+5"
   ]
  },
  {
   "cell_type": "code",
   "execution_count": null,
   "metadata": {},
   "outputs": [],
   "source": []
  }
 ],
 "metadata": {
  "kernelspec": {
   "display_name": "Python 3",
   "language": "python",
   "name": "python3"
  },
  "language_info": {
   "codemirror_mode": {
    "name": "ipython",
    "version": 3
   },
   "file_extension": ".py",
   "mimetype": "text/x-python",
   "name": "python",
   "nbconvert_exporter": "python",
   "pygments_lexer": "ipython3",
   "version": "3.7.0"
  }
 },
 "nbformat": 4,
 "nbformat_minor": 2
}
